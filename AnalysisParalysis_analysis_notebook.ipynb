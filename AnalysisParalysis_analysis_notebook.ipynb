{
 "cells": [
  {
   "cell_type": "code",
   "execution_count": 74,
   "metadata": {},
   "outputs": [],
   "source": [
    "import pandas as pd\n",
    "import numpy as np\n",
    "import seaborn as sns\n",
    "import matplotlib.pyplot as plt\n",
    "\n",
    "from sklearn.model_selection import train_test_split, RandomizedSearchCV\n",
    "from sklearn.impute import SimpleImputer\n",
    "from sklearn.preprocessing import StandardScaler, OrdinalEncoder\n",
    "from sklearn.decomposition import PCA\n",
    "from sklearn.compose import ColumnTransformer\n",
    "from sklearn.pipeline import Pipeline\n",
    "from sklearn.metrics import make_scorer, mean_absolute_percentage_error\n",
    "from sklearn.ensemble import RandomForestRegressor\n",
    "from sklearn.svm import SVR\n",
    "from xgboost import XGBRegressor\n",
    "from catboost import CatBoostRegressor\n",
    "from sklearn.preprocessing import KBinsDiscretizer\n",
    "from tensorflow.keras.models import Sequential\n",
    "from tensorflow.keras.layers import Dense\n",
    "from tensorflow.keras.callbacks import EarlyStopping\n",
    "\n",
    "from statsmodels.stats.outliers_influence import variance_inflation_factor\n",
    "from sklearn.linear_model import LinearRegression\n",
    "import warnings\n",
    "warnings.filterwarnings(\"ignore\")"
   ]
  },
  {
   "cell_type": "markdown",
   "metadata": {},
   "source": [
    "## 2. Load the train and test dataset"
   ]
  },
  {
   "cell_type": "code",
   "execution_count": 94,
   "metadata": {},
   "outputs": [
    {
     "data": {
      "text/html": [
       "<div>\n",
       "<style scoped>\n",
       "    .dataframe tbody tr th:only-of-type {\n",
       "        vertical-align: middle;\n",
       "    }\n",
       "\n",
       "    .dataframe tbody tr th {\n",
       "        vertical-align: top;\n",
       "    }\n",
       "\n",
       "    .dataframe thead th {\n",
       "        text-align: right;\n",
       "    }\n",
       "</style>\n",
       "<table border=\"1\" class=\"dataframe\">\n",
       "  <thead>\n",
       "    <tr style=\"text-align: right;\">\n",
       "      <th></th>\n",
       "      <th>FarmerID</th>\n",
       "      <th>State</th>\n",
       "      <th>REGION</th>\n",
       "      <th>SEX</th>\n",
       "      <th>CITY</th>\n",
       "      <th>Zipcode</th>\n",
       "      <th>DISTRICT</th>\n",
       "      <th>VILLAGE</th>\n",
       "      <th>MARITAL_STATUS</th>\n",
       "      <th>Location</th>\n",
       "      <th>...</th>\n",
       "      <th>Rabi Seasons Agro Ecological Sub Zone in 2020</th>\n",
       "      <th>Rabi Seasons Seasonal average groundwater thickness (cm) in 2020</th>\n",
       "      <th>Rabi Seasons Seasonal average groundwater replenishment rate (cm) in 2020</th>\n",
       "      <th>Night light index</th>\n",
       "      <th>Village score based on socio-economic parameters (Non normalised)</th>\n",
       "      <th>Village score based on socio-economic parameters (0 to 100)</th>\n",
       "      <th>Village category based on socio-economic parameters (Good, Average, Poor)</th>\n",
       "      <th>Land Holding Index source (Total Agri Area/ no of people)</th>\n",
       "      <th>Road density (Km/ SqKm)</th>\n",
       "      <th>Target_Variable/Total Income</th>\n",
       "    </tr>\n",
       "  </thead>\n",
       "  <tbody>\n",
       "    <tr>\n",
       "      <th>0</th>\n",
       "      <td>1002818465057450</td>\n",
       "      <td>MADHYA PRADESH</td>\n",
       "      <td>CENTRAL</td>\n",
       "      <td>M</td>\n",
       "      <td>BARELI</td>\n",
       "      <td>464668</td>\n",
       "      <td>RAISEN</td>\n",
       "      <td>Seoni</td>\n",
       "      <td>M</td>\n",
       "      <td>NaN</td>\n",
       "      <td>...</td>\n",
       "      <td>CENTRAL HIGHLANDS (MALWA AND BUNDELKHAND)  HOT...</td>\n",
       "      <td>97.24</td>\n",
       "      <td>19.50</td>\n",
       "      <td>0.95</td>\n",
       "      <td>22.380262</td>\n",
       "      <td>33.527178</td>\n",
       "      <td>Poor</td>\n",
       "      <td>0.773129</td>\n",
       "      <td>0.00</td>\n",
       "      <td>1360000</td>\n",
       "    </tr>\n",
       "    <tr>\n",
       "      <th>1</th>\n",
       "      <td>1012300674433870</td>\n",
       "      <td>BIHAR</td>\n",
       "      <td>EAST</td>\n",
       "      <td>M</td>\n",
       "      <td>BANDRA</td>\n",
       "      <td>848125</td>\n",
       "      <td>MUZAFFARPUR</td>\n",
       "      <td>Namapur</td>\n",
       "      <td>M</td>\n",
       "      <td>NaN</td>\n",
       "      <td>...</td>\n",
       "      <td>DECCAN PLATEAU  (TELANGANA) AND EASTERN GHATS ...</td>\n",
       "      <td>73.96</td>\n",
       "      <td>16.76</td>\n",
       "      <td>0.97</td>\n",
       "      <td>24.630262</td>\n",
       "      <td>37.173626</td>\n",
       "      <td>Poor</td>\n",
       "      <td>0.454140</td>\n",
       "      <td>0.00</td>\n",
       "      <td>807200</td>\n",
       "    </tr>\n",
       "    <tr>\n",
       "      <th>2</th>\n",
       "      <td>1013472263587380</td>\n",
       "      <td>MADHYA PRADESH</td>\n",
       "      <td>CENTRAL</td>\n",
       "      <td>M</td>\n",
       "      <td>MALHARGARH</td>\n",
       "      <td>458556</td>\n",
       "      <td>MANDSAUR</td>\n",
       "      <td>Billaud</td>\n",
       "      <td>M</td>\n",
       "      <td>NaN</td>\n",
       "      <td>...</td>\n",
       "      <td>CENTRAL HIGHLANDS ( MALWA )  GUJARAT PLAIN AND...</td>\n",
       "      <td>90.05</td>\n",
       "      <td>22.44</td>\n",
       "      <td>0.95</td>\n",
       "      <td>19.493313</td>\n",
       "      <td>28.848462</td>\n",
       "      <td>Poor</td>\n",
       "      <td>0.657040</td>\n",
       "      <td>0.00</td>\n",
       "      <td>500000</td>\n",
       "    </tr>\n",
       "    <tr>\n",
       "      <th>3</th>\n",
       "      <td>1019525480704050</td>\n",
       "      <td>MAHARASHTRA</td>\n",
       "      <td>WEST</td>\n",
       "      <td>M</td>\n",
       "      <td>RENAPUR</td>\n",
       "      <td>413527</td>\n",
       "      <td>LATUR</td>\n",
       "      <td>Renapur</td>\n",
       "      <td>M</td>\n",
       "      <td>NaN</td>\n",
       "      <td>...</td>\n",
       "      <td>DECCAN PLATU  HOT SEMI-ARID ECO-REGION</td>\n",
       "      <td>94.64</td>\n",
       "      <td>21.48</td>\n",
       "      <td>0.98</td>\n",
       "      <td>31.836367</td>\n",
       "      <td>48.852156</td>\n",
       "      <td>Average</td>\n",
       "      <td>0.235615</td>\n",
       "      <td>2.49</td>\n",
       "      <td>558000</td>\n",
       "    </tr>\n",
       "    <tr>\n",
       "      <th>4</th>\n",
       "      <td>1021915867444260</td>\n",
       "      <td>MADHYA PRADESH</td>\n",
       "      <td>CENTRAL</td>\n",
       "      <td>F</td>\n",
       "      <td>KHURAI</td>\n",
       "      <td>470117</td>\n",
       "      <td>SAGAR</td>\n",
       "      <td>Singhpur</td>\n",
       "      <td>M</td>\n",
       "      <td>NaN</td>\n",
       "      <td>...</td>\n",
       "      <td>CENTRAL HIGHLANDS (MALWA AND BUNDELKHAND)  HOT...</td>\n",
       "      <td>95.90</td>\n",
       "      <td>18.93</td>\n",
       "      <td>0.97</td>\n",
       "      <td>21.327371</td>\n",
       "      <td>31.820817</td>\n",
       "      <td>Poor</td>\n",
       "      <td>0.207264</td>\n",
       "      <td>0.00</td>\n",
       "      <td>800000</td>\n",
       "    </tr>\n",
       "  </tbody>\n",
       "</table>\n",
       "<p>5 rows × 105 columns</p>\n",
       "</div>"
      ],
      "text/plain": [
       "           FarmerID           State   REGION SEX        CITY  Zipcode  \\\n",
       "0  1002818465057450  MADHYA PRADESH  CENTRAL   M      BARELI   464668   \n",
       "1  1012300674433870           BIHAR     EAST   M      BANDRA   848125   \n",
       "2  1013472263587380  MADHYA PRADESH  CENTRAL   M  MALHARGARH   458556   \n",
       "3  1019525480704050     MAHARASHTRA     WEST   M     RENAPUR   413527   \n",
       "4  1021915867444260  MADHYA PRADESH  CENTRAL   F      KHURAI   470117   \n",
       "\n",
       "      DISTRICT   VILLAGE MARITAL_STATUS Location  ...  \\\n",
       "0       RAISEN     Seoni              M      NaN  ...   \n",
       "1  MUZAFFARPUR   Namapur              M      NaN  ...   \n",
       "2     MANDSAUR   Billaud              M      NaN  ...   \n",
       "3        LATUR   Renapur              M      NaN  ...   \n",
       "4        SAGAR  Singhpur              M      NaN  ...   \n",
       "\n",
       "       Rabi Seasons Agro Ecological Sub Zone in 2020  \\\n",
       "0  CENTRAL HIGHLANDS (MALWA AND BUNDELKHAND)  HOT...   \n",
       "1  DECCAN PLATEAU  (TELANGANA) AND EASTERN GHATS ...   \n",
       "2  CENTRAL HIGHLANDS ( MALWA )  GUJARAT PLAIN AND...   \n",
       "3             DECCAN PLATU  HOT SEMI-ARID ECO-REGION   \n",
       "4  CENTRAL HIGHLANDS (MALWA AND BUNDELKHAND)  HOT...   \n",
       "\n",
       "  Rabi Seasons Seasonal average groundwater thickness (cm) in 2020  \\\n",
       "0                                              97.24                 \n",
       "1                                              73.96                 \n",
       "2                                              90.05                 \n",
       "3                                              94.64                 \n",
       "4                                              95.90                 \n",
       "\n",
       "   Rabi Seasons Seasonal average groundwater replenishment rate (cm) in 2020  \\\n",
       "0                                              19.50                           \n",
       "1                                              16.76                           \n",
       "2                                              22.44                           \n",
       "3                                              21.48                           \n",
       "4                                              18.93                           \n",
       "\n",
       "    Night light index  \\\n",
       "0                0.95   \n",
       "1                0.97   \n",
       "2                0.95   \n",
       "3                0.98   \n",
       "4                0.97   \n",
       "\n",
       "    Village score based on socio-economic parameters (Non normalised)  \\\n",
       "0                                          22.380262                    \n",
       "1                                          24.630262                    \n",
       "2                                          19.493313                    \n",
       "3                                          31.836367                    \n",
       "4                                          21.327371                    \n",
       "\n",
       "    Village score based on socio-economic parameters (0 to 100)  \\\n",
       "0                                          33.527178              \n",
       "1                                          37.173626              \n",
       "2                                          28.848462              \n",
       "3                                          48.852156              \n",
       "4                                          31.820817              \n",
       "\n",
       "   Village category based on socio-economic parameters (Good, Average, Poor)  \\\n",
       "0                                               Poor                           \n",
       "1                                               Poor                           \n",
       "2                                               Poor                           \n",
       "3                                            Average                           \n",
       "4                                               Poor                           \n",
       "\n",
       "   Land Holding Index source (Total Agri Area/ no of people)  \\\n",
       "0                                           0.773129           \n",
       "1                                           0.454140           \n",
       "2                                           0.657040           \n",
       "3                                           0.235615           \n",
       "4                                           0.207264           \n",
       "\n",
       "    Road density (Km/ SqKm)  Target_Variable/Total Income  \n",
       "0                      0.00                       1360000  \n",
       "1                      0.00                        807200  \n",
       "2                      0.00                        500000  \n",
       "3                      2.49                        558000  \n",
       "4                      0.00                        800000  \n",
       "\n",
       "[5 rows x 105 columns]"
      ]
     },
     "execution_count": 94,
     "metadata": {},
     "output_type": "execute_result"
    }
   ],
   "source": [
    "# Load the data\n",
    "excel_path = \"LTF Challenge data with dictionary.xlsx\"\n",
    "train_df = pd.read_excel(excel_path, sheet_name=\"TrainData\")\n",
    "test_df = pd.read_excel(excel_path, sheet_name=\"TestData\")\n",
    "train_df.head()"
   ]
  },
  {
   "cell_type": "code",
   "execution_count": 64,
   "metadata": {},
   "outputs": [
    {
     "name": "stdout",
     "output_type": "stream",
     "text": [
      "<class 'pandas.core.frame.DataFrame'>\n",
      "RangeIndex: 47970 entries, 0 to 47969\n",
      "Columns: 105 entries, FarmerID to Target_Variable/Total Income\n",
      "dtypes: float64(62), int64(5), object(38)\n",
      "memory usage: 38.4+ MB\n"
     ]
    }
   ],
   "source": [
    "train_df.info()"
   ]
  },
  {
   "cell_type": "code",
   "execution_count": 72,
   "metadata": {},
   "outputs": [
    {
     "data": {
      "text/html": [
       "<div>\n",
       "<style scoped>\n",
       "    .dataframe tbody tr th:only-of-type {\n",
       "        vertical-align: middle;\n",
       "    }\n",
       "\n",
       "    .dataframe tbody tr th {\n",
       "        vertical-align: top;\n",
       "    }\n",
       "\n",
       "    .dataframe thead th {\n",
       "        text-align: right;\n",
       "    }\n",
       "</style>\n",
       "<table border=\"1\" class=\"dataframe\">\n",
       "  <thead>\n",
       "    <tr style=\"text-align: right;\">\n",
       "      <th></th>\n",
       "      <th>FarmerID</th>\n",
       "      <th>State</th>\n",
       "      <th>REGION</th>\n",
       "      <th>SEX</th>\n",
       "      <th>CITY</th>\n",
       "      <th>Zipcode</th>\n",
       "      <th>DISTRICT</th>\n",
       "      <th>VILLAGE</th>\n",
       "      <th>MARITAL_STATUS</th>\n",
       "      <th>Location</th>\n",
       "      <th>...</th>\n",
       "      <th>Rabi Seasons Agro Ecological Sub Zone in 2020</th>\n",
       "      <th>Rabi Seasons Seasonal average groundwater thickness (cm) in 2020</th>\n",
       "      <th>Rabi Seasons Seasonal average groundwater replenishment rate (cm) in 2020</th>\n",
       "      <th>Night light index</th>\n",
       "      <th>Village score based on socio-economic parameters (Non normalised)</th>\n",
       "      <th>Village score based on socio-economic parameters (0 to 100)</th>\n",
       "      <th>Village category based on socio-economic parameters (Good, Average, Poor)</th>\n",
       "      <th>Land Holding Index source (Total Agri Area/ no of people)</th>\n",
       "      <th>Road density (Km/ SqKm)</th>\n",
       "      <th>Target_Variable/Total Income</th>\n",
       "    </tr>\n",
       "  </thead>\n",
       "  <tbody>\n",
       "    <tr>\n",
       "      <th>0</th>\n",
       "      <td>576972022499073</td>\n",
       "      <td>KARNATAKA</td>\n",
       "      <td>SOUTH</td>\n",
       "      <td>M</td>\n",
       "      <td>TUMAKURU</td>\n",
       "      <td>572102</td>\n",
       "      <td>TUMKUR</td>\n",
       "      <td>Tumkur</td>\n",
       "      <td>M</td>\n",
       "      <td>13.3173175,77.1240408</td>\n",
       "      <td>...</td>\n",
       "      <td>EASTERN GHATS AND TAMIL NADU UPLANDS AND DECCA...</td>\n",
       "      <td>92.35</td>\n",
       "      <td>23.34</td>\n",
       "      <td>0.97</td>\n",
       "      <td>34.633257</td>\n",
       "      <td>53.384919</td>\n",
       "      <td>Good</td>\n",
       "      <td>0.000118</td>\n",
       "      <td>8.85</td>\n",
       "      <td>NaN</td>\n",
       "    </tr>\n",
       "    <tr>\n",
       "      <th>1</th>\n",
       "      <td>979235081831136</td>\n",
       "      <td>HARYANA</td>\n",
       "      <td>NORTH</td>\n",
       "      <td>M</td>\n",
       "      <td>KALKA</td>\n",
       "      <td>133302</td>\n",
       "      <td>PANCHKULA</td>\n",
       "      <td>Kalka</td>\n",
       "      <td>M</td>\n",
       "      <td>30.4749107,77.1320795</td>\n",
       "      <td>...</td>\n",
       "      <td>NORTHERN PLAIN  HOT SUBHUMID (DRY) ECO-REGION</td>\n",
       "      <td>43.91</td>\n",
       "      <td>12.77</td>\n",
       "      <td>0.94</td>\n",
       "      <td>32.964252</td>\n",
       "      <td>50.680057</td>\n",
       "      <td>Good</td>\n",
       "      <td>0.000268</td>\n",
       "      <td>43.23</td>\n",
       "      <td>NaN</td>\n",
       "    </tr>\n",
       "    <tr>\n",
       "      <th>2</th>\n",
       "      <td>176490610549774</td>\n",
       "      <td>HARYANA</td>\n",
       "      <td>NORTH</td>\n",
       "      <td>M</td>\n",
       "      <td>PINJORE</td>\n",
       "      <td>134102</td>\n",
       "      <td>PANCHKULA</td>\n",
       "      <td>Kalka</td>\n",
       "      <td>M</td>\n",
       "      <td>NaN</td>\n",
       "      <td>...</td>\n",
       "      <td>NORTHERN PLAIN  HOT SUBHUMID (DRY) ECO-REGION</td>\n",
       "      <td>43.91</td>\n",
       "      <td>12.77</td>\n",
       "      <td>0.94</td>\n",
       "      <td>32.964252</td>\n",
       "      <td>50.680057</td>\n",
       "      <td>Good</td>\n",
       "      <td>0.000268</td>\n",
       "      <td>43.23</td>\n",
       "      <td>NaN</td>\n",
       "    </tr>\n",
       "    <tr>\n",
       "      <th>3</th>\n",
       "      <td>977021407171384</td>\n",
       "      <td>HARYANA</td>\n",
       "      <td>NORTH</td>\n",
       "      <td>M</td>\n",
       "      <td>PINJORE</td>\n",
       "      <td>134102</td>\n",
       "      <td>PANCHKULA</td>\n",
       "      <td>Kalka</td>\n",
       "      <td>S</td>\n",
       "      <td>NaN</td>\n",
       "      <td>...</td>\n",
       "      <td>NORTHERN PLAIN  HOT SUBHUMID (DRY) ECO-REGION</td>\n",
       "      <td>43.91</td>\n",
       "      <td>12.77</td>\n",
       "      <td>0.94</td>\n",
       "      <td>32.964252</td>\n",
       "      <td>50.680057</td>\n",
       "      <td>Good</td>\n",
       "      <td>0.000268</td>\n",
       "      <td>43.23</td>\n",
       "      <td>NaN</td>\n",
       "    </tr>\n",
       "    <tr>\n",
       "      <th>4</th>\n",
       "      <td>1334154133262320</td>\n",
       "      <td>HARYANA</td>\n",
       "      <td>NORTH</td>\n",
       "      <td>M</td>\n",
       "      <td>PINJORE</td>\n",
       "      <td>134102</td>\n",
       "      <td>PANCHKULA</td>\n",
       "      <td>Kalka</td>\n",
       "      <td>M</td>\n",
       "      <td>30.7982131,76.9209035</td>\n",
       "      <td>...</td>\n",
       "      <td>NORTHERN PLAIN  HOT SUBHUMID (DRY) ECO-REGION</td>\n",
       "      <td>43.91</td>\n",
       "      <td>12.77</td>\n",
       "      <td>0.94</td>\n",
       "      <td>32.964252</td>\n",
       "      <td>50.680057</td>\n",
       "      <td>Good</td>\n",
       "      <td>0.000268</td>\n",
       "      <td>43.23</td>\n",
       "      <td>NaN</td>\n",
       "    </tr>\n",
       "  </tbody>\n",
       "</table>\n",
       "<p>5 rows × 105 columns</p>\n",
       "</div>"
      ],
      "text/plain": [
       "           FarmerID      State REGION SEX      CITY  Zipcode   DISTRICT  \\\n",
       "0   576972022499073  KARNATAKA  SOUTH   M  TUMAKURU   572102     TUMKUR   \n",
       "1   979235081831136    HARYANA  NORTH   M     KALKA   133302  PANCHKULA   \n",
       "2   176490610549774    HARYANA  NORTH   M   PINJORE   134102  PANCHKULA   \n",
       "3   977021407171384    HARYANA  NORTH   M   PINJORE   134102  PANCHKULA   \n",
       "4  1334154133262320    HARYANA  NORTH   M   PINJORE   134102  PANCHKULA   \n",
       "\n",
       "  VILLAGE MARITAL_STATUS               Location  ...  \\\n",
       "0  Tumkur              M  13.3173175,77.1240408  ...   \n",
       "1   Kalka              M  30.4749107,77.1320795  ...   \n",
       "2   Kalka              M                    NaN  ...   \n",
       "3   Kalka              S                    NaN  ...   \n",
       "4   Kalka              M  30.7982131,76.9209035  ...   \n",
       "\n",
       "       Rabi Seasons Agro Ecological Sub Zone in 2020  \\\n",
       "0  EASTERN GHATS AND TAMIL NADU UPLANDS AND DECCA...   \n",
       "1      NORTHERN PLAIN  HOT SUBHUMID (DRY) ECO-REGION   \n",
       "2      NORTHERN PLAIN  HOT SUBHUMID (DRY) ECO-REGION   \n",
       "3      NORTHERN PLAIN  HOT SUBHUMID (DRY) ECO-REGION   \n",
       "4      NORTHERN PLAIN  HOT SUBHUMID (DRY) ECO-REGION   \n",
       "\n",
       "  Rabi Seasons Seasonal average groundwater thickness (cm) in 2020  \\\n",
       "0                                              92.35                 \n",
       "1                                              43.91                 \n",
       "2                                              43.91                 \n",
       "3                                              43.91                 \n",
       "4                                              43.91                 \n",
       "\n",
       "   Rabi Seasons Seasonal average groundwater replenishment rate (cm) in 2020  \\\n",
       "0                                              23.34                           \n",
       "1                                              12.77                           \n",
       "2                                              12.77                           \n",
       "3                                              12.77                           \n",
       "4                                              12.77                           \n",
       "\n",
       "    Night light index  \\\n",
       "0                0.97   \n",
       "1                0.94   \n",
       "2                0.94   \n",
       "3                0.94   \n",
       "4                0.94   \n",
       "\n",
       "    Village score based on socio-economic parameters (Non normalised)  \\\n",
       "0                                          34.633257                    \n",
       "1                                          32.964252                    \n",
       "2                                          32.964252                    \n",
       "3                                          32.964252                    \n",
       "4                                          32.964252                    \n",
       "\n",
       "    Village score based on socio-economic parameters (0 to 100)  \\\n",
       "0                                          53.384919              \n",
       "1                                          50.680057              \n",
       "2                                          50.680057              \n",
       "3                                          50.680057              \n",
       "4                                          50.680057              \n",
       "\n",
       "   Village category based on socio-economic parameters (Good, Average, Poor)  \\\n",
       "0                                               Good                           \n",
       "1                                               Good                           \n",
       "2                                               Good                           \n",
       "3                                               Good                           \n",
       "4                                               Good                           \n",
       "\n",
       "   Land Holding Index source (Total Agri Area/ no of people)  \\\n",
       "0                                           0.000118           \n",
       "1                                           0.000268           \n",
       "2                                           0.000268           \n",
       "3                                           0.000268           \n",
       "4                                           0.000268           \n",
       "\n",
       "    Road density (Km/ SqKm)  Target_Variable/Total Income  \n",
       "0                      8.85                           NaN  \n",
       "1                     43.23                           NaN  \n",
       "2                     43.23                           NaN  \n",
       "3                     43.23                           NaN  \n",
       "4                     43.23                           NaN  \n",
       "\n",
       "[5 rows x 105 columns]"
      ]
     },
     "execution_count": 72,
     "metadata": {},
     "output_type": "execute_result"
    }
   ],
   "source": [
    "test_df.head()"
   ]
  },
  {
   "cell_type": "markdown",
   "metadata": {},
   "source": [
    "## 3. Imputing null values for train and test data"
   ]
  },
  {
   "cell_type": "code",
   "execution_count": null,
   "metadata": {},
   "outputs": [
    {
     "name": "stdout",
     "output_type": "stream",
     "text": [
      "Avg_Disbursement_Amount_Bureau                                  20790\n",
      "Location                                                        17030\n",
      "Address type                                                    17030\n",
      "Ownership                                                       17030\n",
      "Perc_of_house_with_6plus_room                                     168\n",
      "Women_15_19_Mothers_or_Pregnant_at_time_of_survey                 168\n",
      "perc_of_pop_living_in_hh_electricity                              168\n",
      "perc_Households_with_Pucca_House_That_Has_More_Than_3_Rooms       168\n",
      "mat_roof_Metal_GI_Asbestos_sheets                                 168\n",
      "perc_of_Wall_material_with_Burnt_brick                            168\n",
      "Households_with_improved_Sanitation_Facility                      168\n",
      "perc_Households_do_not_have_KCC_With_The_Credit_Limit_Of_50k      168\n",
      "Total_Land_For_Agriculture                                         71\n",
      "dtype: int64\n"
     ]
    }
   ],
   "source": [
    "# Null values in training data\n",
    "null_counts = train_df.isnull().sum()\n",
    "null_counts = null_counts[null_counts > 0]\n",
    "print(null_counts.sort_values(ascending=False))"
   ]
  },
  {
   "cell_type": "code",
   "execution_count": 91,
   "metadata": {},
   "outputs": [
    {
     "name": "stdout",
     "output_type": "stream",
     "text": [
      "Target_Variable/Total Income                                    9986\n",
      "Avg_Disbursement_Amount_Bureau                                  4262\n",
      "Location                                                        3569\n",
      "Address type                                                    3569\n",
      "Ownership                                                       3569\n",
      "Perc_of_house_with_6plus_room                                     33\n",
      "Women_15_19_Mothers_or_Pregnant_at_time_of_survey                 33\n",
      "perc_of_pop_living_in_hh_electricity                              33\n",
      "perc_Households_with_Pucca_House_That_Has_More_Than_3_Rooms       33\n",
      "mat_roof_Metal_GI_Asbestos_sheets                                 33\n",
      "perc_of_Wall_material_with_Burnt_brick                            33\n",
      "Households_with_improved_Sanitation_Facility                      33\n",
      "perc_Households_do_not_have_KCC_With_The_Credit_Limit_Of_50k      33\n",
      "Total_Land_For_Agriculture                                        16\n",
      "dtype: int64\n"
     ]
    }
   ],
   "source": [
    "# Null values in testing data\n",
    "null_counts = test_df.isnull().sum()\n",
    "null_counts = null_counts[null_counts > 0]\n",
    "print(null_counts.sort_values(ascending=False))"
   ]
  },
  {
   "cell_type": "code",
   "execution_count": 65,
   "metadata": {},
   "outputs": [
    {
     "name": "stdout",
     "output_type": "stream",
     "text": [
      "Null values in train_df after imputation: 0\n"
     ]
    }
   ],
   "source": [
    "# Drop identifier\n",
    "train_df_dropped = train_df.drop(columns=[\"FarmerID\"])\n",
    "test_df_dropped = test_df.drop(columns=[\"FarmerID\"])\n",
    "\n",
    "# Step 1: Null Value Imputation\n",
    "num_cols = train_df_dropped.select_dtypes(include=np.number).columns.tolist()\n",
    "cat_cols = train_df_dropped.select_dtypes(exclude=np.number).columns.tolist()\n",
    "\n",
    "# Imputation logic\n",
    "num_imputer = SimpleImputer(strategy=\"median\")\n",
    "cat_imputer = SimpleImputer(strategy=\"most_frequent\")\n",
    "\n",
    "train_df_dropped[num_cols] = num_imputer.fit_transform(train_df_dropped[num_cols])\n",
    "train_df_dropped[cat_cols] = cat_imputer.fit_transform(train_df_dropped[cat_cols])\n",
    "test_df_dropped[num_cols] = num_imputer.transform(test_df_dropped[num_cols])\n",
    "test_df_dropped[cat_cols] = cat_imputer.transform(test_df_dropped[cat_cols])\n",
    "\n",
    "print(f\"Null values in train_df after imputation: {train_df_dropped.isnull().sum().sum()}\")"
   ]
  },
  {
   "cell_type": "code",
   "execution_count": 92,
   "metadata": {},
   "outputs": [
    {
     "name": "stdout",
     "output_type": "stream",
     "text": [
      "Number of Numerical columns: 65\n",
      "Number of Categorical columns: 38\n"
     ]
    }
   ],
   "source": [
    "print(f\"Number of Numerical columns: {len(num_cols)}\")\n",
    "print(f\"Number of Categorical columns: {len(cat_cols)}\")"
   ]
  },
  {
   "cell_type": "markdown",
   "metadata": {},
   "source": [
    "## 4. Checking distribution of Target Variable (EDA)"
   ]
  },
  {
   "cell_type": "code",
   "execution_count": 49,
   "metadata": {},
   "outputs": [
    {
     "data": {
      "image/png": "[encoded data removed]",
      "text/plain": [
       "<Figure size 1000x600 with 1 Axes>"
      ]
     },
     "metadata": {},
     "output_type": "display_data"
    }
   ],
   "source": [
    "plt.figure(figsize=(10, 6))\n",
    "sns.histplot(train_df['Target_Variable/Total Income'], kde=True)\n",
    "plt.title('Distribution of Target Variable')\n",
    "plt.xlabel('Total Income')\n",
    "plt.ylabel('Frequency')\n",
    "plt.show()\n",
    "# # Step 2: EDA Graphs\n",
    "# for col in num_cols:\n",
    "#     plt.figure()\n",
    "#     sns.histplot(train_df[col], kde=True)\n",
    "#     plt.title(f'Distribution of {col}')\n",
    "#     plt.show()\n",
    "\n",
    "# for col in cat_cols:\n",
    "#     plt.figure()\n",
    "#     train_df[col].value_counts().plot(kind='bar')\n",
    "#     plt.title(f'Count plot of {col}')\n",
    "#     plt.show()"
   ]
  },
  {
   "cell_type": "markdown",
   "metadata": {},
   "source": [
    "## 5. Split the data for min/max columns"
   ]
  },
  {
   "cell_type": "code",
   "execution_count": null,
   "metadata": {},
   "outputs": [],
   "source": [
    "# Step 3: Column Splitting (Rainfall min/max if applicable)\n",
    "for col in train_df_dropped.columns:\n",
    "    if \"min\" in str(train_df_dropped[col].iloc[0]).lower() and \"max\" in str(train_df_dropped[col].iloc[0]).lower():\n",
    "        print(col)\n",
    "        train_df_dropped[[\"Rainfall_Min\", \"Rainfall_Max\"]] = train_df_dropped[col].str.extract(r\"(\\d+\\.?\\d*)\\D+(\\d+\\.?\\d*)\").astype(float)\n",
    "        test_df_dropped[[\"Rainfall_Min\", \"Rainfall_Max\"]] = test_df_dropped[col].str.extract(r\"(\\d+\\.?\\d*)\\D+(\\d+\\.?\\d*)\").astype(float)\n",
    "        train_df_dropped.drop(columns=[col], inplace=True)\n",
    "        test_df_dropped.drop(columns=[col], inplace=True)"
   ]
  },
  {
   "cell_type": "code",
   "execution_count": 93,
   "metadata": {},
   "outputs": [],
   "source": [
    "for col in train_df.columns:\n",
    "    if \"min\" in str(train_df[col].iloc[0]).lower() and \"max\" in str(train_df[col].iloc[0]).lower():\n",
    "        print(col)"
   ]
  },
  {
   "cell_type": "markdown",
   "metadata": {},
   "source": [
    "## 6. Encoding Categorical features and Dealing with multi-collinearity through PCA"
   ]
  },
  {
   "cell_type": "code",
   "execution_count": null,
   "metadata": {},
   "outputs": [
    {
     "name": "stdout",
     "output_type": "stream",
     "text": [
      "Original train data shape: (47970, 103)\n",
      "PCA-transformed train data shape: (47970, 58)\n",
      "Original test data shape: (9986, 103)\n",
      "PCA-transformed test data shape: (9986, 58)\n"
     ]
    }
   ],
   "source": [
    "# Step 1: Ordinal \n",
    "X_temp = train_df_dropped.drop(columns=[\"Target_Variable/Total Income\"])\n",
    "X_test_temp = test_df_dropped.drop(columns=[\"Target_Variable/Total Income\"])\n",
    "\n",
    "cat_cols = X_temp.select_dtypes(exclude='number').columns.tolist()\n",
    "num_cols = X_temp.select_dtypes(include='number').columns.tolist()\n",
    "\n",
    "# Fit OrdinalEncoder on train and apply on both train and test\n",
    "ordinal_encoder = OrdinalEncoder(handle_unknown='use_encoded_value', unknown_value=-1)\n",
    "X_temp[cat_cols] = ordinal_encoder.fit_transform(X_temp[cat_cols])\n",
    "X_test_temp[cat_cols] = ordinal_encoder.transform(X_test_temp[cat_cols])\n",
    "\n",
    "# Step 3: Standard scale all features\n",
    "scaler = StandardScaler()\n",
    "X_scaled = scaler.fit_transform(X_temp)\n",
    "X_test_scaled = scaler.transform(X_test_temp)\n",
    "\n",
    "# Step 4: Apply PCA to retain 98% variance\n",
    "pca = PCA(n_components=0.98, random_state=42)\n",
    "X_pca = pca.fit_transform(X_scaled)\n",
    "X_test_pca = pca.transform(X_test_scaled)\n",
    "\n",
    "# Step 5: Check number of components retained\n",
    "print(f\"Original train data shape: {X_scaled.shape}\")\n",
    "print(f\"PCA-transformed train data shape: {X_pca.shape}\")\n",
    "print(f\"Original test data shape: {X_test_scaled.shape}\")\n",
    "print(f\"PCA-transformed test data shape: {X_test_pca.shape}\")"
   ]
  },
  {
   "cell_type": "markdown",
   "metadata": {},
   "source": [
    "## 7. Testing the ML models through a stratified sample dataset of 5000 records"
   ]
  },
  {
   "cell_type": "code",
   "execution_count": 53,
   "metadata": {},
   "outputs": [
    {
     "name": "stdout",
     "output_type": "stream",
     "text": [
      "XGBRegressor: MAPE = 0.4376\n",
      "RandomForestRegressor: MAPE = 0.4099\n",
      "SVR: MAPE = 0.3439\n",
      "CatBoostRegressor: MAPE = 0.3538\n"
     ]
    }
   ],
   "source": [
    "# Step 1: Stratified sampling using binned y values\n",
    "y = train_df[\"Target_Variable/Total Income\"]\n",
    "bins = KBinsDiscretizer(n_bins=30, encode='ordinal', strategy='quantile')\n",
    "y_bins = bins.fit_transform(y.values.reshape(-1, 1)).flatten()\n",
    "_, X_sampled, _, y_sampled = train_test_split(X_pca, y, stratify=y_bins, test_size=10000, random_state=42)\n",
    "\n",
    "# Step 2: Split into train and test\n",
    "X_train, X_test, y_train, y_test = train_test_split(X_sampled, y_sampled, test_size=0.2, random_state=42)\n",
    "\n",
    "# Step 3: Define models\n",
    "models = {\n",
    "    \"XGBRegressor\": XGBRegressor(n_estimators=100, learning_rate=0.1, random_state=42),\n",
    "    \"RandomForestRegressor\": RandomForestRegressor(n_estimators=100, random_state=42),\n",
    "    \"SVR\": SVR(),\n",
    "    \"CatBoostRegressor\": CatBoostRegressor(verbose=0, random_state=42)\n",
    "}\n",
    "\n",
    "# Step 4: Fit and evaluate MAPE\n",
    "for name, model in models.items():\n",
    "    model.fit(X_train, y_train)\n",
    "    preds = model.predict(X_test)\n",
    "    mape = mean_absolute_percentage_error(y_test, preds)\n",
    "    print(f\"{name}: MAPE = {mape:.4f}\")"
   ]
  },
  {
   "cell_type": "markdown",
   "metadata": {},
   "source": [
    "#### Since each model has similar performance, we build an ensemble taking simple average of all the four models"
   ]
  },
  {
   "cell_type": "markdown",
   "metadata": {},
   "source": [
    "## 8. Building the base ensemble and training it"
   ]
  },
  {
   "cell_type": "code",
   "execution_count": 56,
   "metadata": {},
   "outputs": [],
   "source": [
    "# Train-test 80-20 split\n",
    "X_train, X_val, y_train, y_val = train_test_split(X_pca, y, test_size=0.2, random_state=43)"
   ]
  },
  {
   "cell_type": "code",
   "execution_count": 57,
   "metadata": {},
   "outputs": [
    {
     "name": "stdout",
     "output_type": "stream",
     "text": [
      "Simple Average Ensemble MAPE on Validation Set: 0.3105\n"
     ]
    }
   ],
   "source": [
    "# Step 2: Initialize models\n",
    "xgb_model = XGBRegressor(n_estimators=100, learning_rate=0.1, random_state=43)\n",
    "rf_model = RandomForestRegressor(n_estimators=100, random_state=43)\n",
    "svr_model = SVR()\n",
    "cb_model = CatBoostRegressor(verbose=0, random_state=43)\n",
    "\n",
    "# Step 3: Train each model\n",
    "xgb_model.fit(X_train, y_train)\n",
    "rf_model.fit(X_train, y_train)\n",
    "svr_model.fit(X_train, y_train)\n",
    "cb_model.fit(X_train, y_train)\n",
    "\n",
    "# Step 4: Predict on validation set\n",
    "pred_xgb = xgb_model.predict(X_val)\n",
    "pred_rf = rf_model.predict(X_val)\n",
    "pred_svr = svr_model.predict(X_val)\n",
    "pred_cb = cb_model.predict(X_val)\n",
    "\n",
    "# Step 5: Simple average ensemble\n",
    "final_pred = (pred_xgb + pred_rf + pred_svr + pred_cb) / 4\n",
    "\n",
    "# Step 6: Calculate MAPE\n",
    "final_mape = mean_absolute_percentage_error(y_val, final_pred)\n",
    "print(f\"Simple Average Ensemble MAPE on Validation Set: {final_mape:.4f}\")"
   ]
  },
  {
   "cell_type": "markdown",
   "metadata": {},
   "source": [
    "## 9. Hyper-parameter Tuning for each model in the ensemble and re-calculating updated MAPE on validation data"
   ]
  },
  {
   "cell_type": "code",
   "execution_count": 58,
   "metadata": {},
   "outputs": [],
   "source": [
    "# Step 1: Stratified sampling for 10,000 points\n",
    "bins = KBinsDiscretizer(n_bins=20, encode='ordinal', strategy='quantile')\n",
    "y_bins = bins.fit_transform(y.values.reshape(-1, 1)).flatten()\n",
    "_, X_sample, _, y_sample = train_test_split(X_pca, y, stratify=y_bins, test_size=7000, random_state=42)\n",
    "\n",
    "# Step 2: Split sample into training and validation sets\n",
    "X_train_s, X_val_s, y_train_s, y_val_s = train_test_split(X_sample, y_sample, test_size=0.2, random_state=42)\n",
    "\n",
    "# Step 3: Define hyperparameter search spaces\n",
    "xgb_param_grid = {\n",
    "    'n_estimators': [100, 200, 300],\n",
    "    'max_depth': [3, 6, 9],\n",
    "    'learning_rate': [0.01, 0.05, 0.1],\n",
    "    'subsample': [0.7, 0.9, 1.0]\n",
    "}\n",
    "\n",
    "rf_param_grid = {\n",
    "    'n_estimators': [100, 200, 300],\n",
    "    'max_depth': [None, 10, 20],\n",
    "    'min_samples_split': [2, 5, 10]\n",
    "}\n",
    "\n",
    "svr_param_grid = {\n",
    "    'C': [0.1, 1, 10],\n",
    "    'epsilon': [0.01, 0.1, 0.2],\n",
    "    'kernel': ['rbf', 'linear']\n",
    "}\n",
    "\n",
    "cb_param_grid = {\n",
    "    'depth': [4, 6, 8],\n",
    "    'learning_rate': [0.01, 0.05, 0.1],\n",
    "    'iterations': [100, 200, 300]\n",
    "}\n",
    "\n",
    "# Step 4: Tune each model using RandomizedSearchCV\n",
    "scorer = make_scorer(mean_absolute_percentage_error, greater_is_better=False)\n",
    "\n",
    "xgb_search = RandomizedSearchCV(XGBRegressor(random_state=42), xgb_param_grid, scoring=scorer, cv=3, n_iter=10, random_state=42)\n",
    "xgb_search.fit(X_train_s, y_train_s)\n",
    "\n",
    "rf_search = RandomizedSearchCV(RandomForestRegressor(random_state=42), rf_param_grid, scoring=scorer, cv=3, n_iter=10, random_state=42)\n",
    "rf_search.fit(X_train_s, y_train_s)\n",
    "\n",
    "svr_search = RandomizedSearchCV(SVR(), svr_param_grid, scoring=scorer, cv=3, n_iter=10, random_state=42)\n",
    "svr_search.fit(X_train_s, y_train_s)\n",
    "\n",
    "cb_search = RandomizedSearchCV(CatBoostRegressor(verbose=0, random_state=42), cb_param_grid, scoring=scorer, cv=3, n_iter=10, random_state=42)\n",
    "cb_search.fit(X_train_s, y_train_s)\n",
    "\n",
    "# Step 5: Retrieve best estimators\n",
    "best_xgb = xgb_search.best_estimator_\n",
    "best_rf = rf_search.best_estimator_\n",
    "best_svr = svr_search.best_estimator_\n",
    "best_cb = cb_search.best_estimator_"
   ]
  },
  {
   "cell_type": "code",
   "execution_count": 85,
   "metadata": {},
   "outputs": [
    {
     "name": "stdout",
     "output_type": "stream",
     "text": [
      "Best XGBRegressor: {'subsample': 0.9, 'n_estimators': 300, 'max_depth': 6, 'learning_rate': 0.1}\n",
      "Best RandomForestRegressor: {'n_estimators': 300, 'min_samples_split': 10, 'max_depth': None}\n",
      "Best SVR: {'kernel': 'linear', 'epsilon': 0.01, 'C': 10}\n",
      "Best CatBoostRegressor: {'learning_rate': 0.1, 'iterations': 300, 'depth': 6}\n"
     ]
    }
   ],
   "source": [
    "print(f\"Best XGBRegressor: {xgb_search.best_params_}\")\n",
    "print(f\"Best RandomForestRegressor: {rf_search.best_params_}\")\n",
    "print(f\"Best SVR: {svr_search.best_params_}\")\n",
    "print(f\"Best CatBoostRegressor: {cb_search.best_params_}\")"
   ]
  },
  {
   "cell_type": "code",
   "execution_count": 59,
   "metadata": {},
   "outputs": [
    {
     "name": "stdout",
     "output_type": "stream",
     "text": [
      "Final Ensemble MAPE (with tuned hyperparameters): 0.2955\n"
     ]
    }
   ],
   "source": [
    "# Step 6: Train ensemble on full training data with best hyperparameters\n",
    "X_train_full, X_val_full, y_train_full, y_val_full = train_test_split(X_pca, y, test_size=0.2, random_state=42)\n",
    "\n",
    "best_xgb.fit(X_train_full, y_train_full)\n",
    "best_rf.fit(X_train_full, y_train_full)\n",
    "best_svr.fit(X_train_full, y_train_full)\n",
    "best_cb.fit(X_train_full, y_train_full)\n",
    "\n",
    "# Step 7: Predict and compute MAPE\n",
    "pred_xgb = best_xgb.predict(X_val_full)\n",
    "pred_rf = best_rf.predict(X_val_full)\n",
    "pred_svr = best_svr.predict(X_val_full)\n",
    "pred_cb = best_cb.predict(X_val_full)\n",
    "\n",
    "final_pred = (pred_xgb + pred_rf + pred_svr + pred_cb) / 4\n",
    "final_mape = mean_absolute_percentage_error(y_val_full, final_pred)\n",
    "print(f\"Final Ensemble MAPE (with tuned hyperparameters): {final_mape:.4f}\")"
   ]
  },
  {
   "cell_type": "code",
   "execution_count": 89,
   "metadata": {},
   "outputs": [
    {
     "name": "stdout",
     "output_type": "stream",
     "text": [
      "MAPE for XGBRegressor: 0.3065\n",
      "MAPE for RandomForestRegressor: 0.3255\n",
      "MAPE for SVR: 0.2908\n",
      "MAPE for CatBoostRegressor: 0.3189\n"
     ]
    }
   ],
   "source": [
    "print(f\"MAPE for XGBRegressor: {mean_absolute_percentage_error(y_val_full, pred_xgb):.4f}\")\n",
    "print(f\"MAPE for RandomForestRegressor: {mean_absolute_percentage_error(y_val_full, pred_rf):.4f}\")\n",
    "print(f\"MAPE for SVR: {mean_absolute_percentage_error(y_val_full, pred_svr):.4f}\")\n",
    "print(f\"MAPE for CatBoostRegressor: {mean_absolute_percentage_error(y_val_full, pred_cb):.4f}\")"
   ]
  },
  {
   "cell_type": "markdown",
   "metadata": {},
   "source": [
    "## 10. Finding the target values for the test data"
   ]
  },
  {
   "cell_type": "code",
   "execution_count": 110,
   "metadata": {},
   "outputs": [],
   "source": [
    "# Step 4: Run through tuned ensemble models\n",
    "pred_xgb_test = best_xgb.predict(X_test_pca)\n",
    "pred_rf_test = best_rf.predict(X_test_pca)\n",
    "pred_svr_test = best_svr.predict(X_test_pca)\n",
    "pred_cb_test = best_cb.predict(X_test_pca)\n",
    "\n",
    "# Step 5: Simple average ensemble prediction\n",
    "final_test_pred = (pred_xgb_test + pred_rf_test + pred_svr_test + pred_cb_test) / 4"
   ]
  },
  {
   "cell_type": "code",
   "execution_count": 79,
   "metadata": {},
   "outputs": [],
   "source": [
    "# Step 7: Create output DataFrame and export\n",
    "output_df = pd.DataFrame({\n",
    "    \"FarmerID\": test_df[\"FarmerID\"].astype(str),\n",
    "    \"Target_Variable/Total Income\": final_test_pred\n",
    "})\n",
    "output_df.to_excel(\"Ensemble_Predicted_Incomes.xlsx\", index=False)"
   ]
  },
  {
   "cell_type": "markdown",
   "metadata": {},
   "source": [
    "## 11. Optional - training the algorithm with the full dataset (without using PCA)"
   ]
  },
  {
   "cell_type": "code",
   "execution_count": 87,
   "metadata": {},
   "outputs": [
    {
     "name": "stdout",
     "output_type": "stream",
     "text": [
      "MAPE for XGBRegressor: 0.2496\n",
      "MAPE for RandomForestRegressor: 0.2367\n",
      "MAPE for SVR: 0.2919\n",
      "MAPE for CatBoostRegressor: 0.2687\n",
      "Simple Average Ensemble MAPE on Validation Set: 0.2443\n"
     ]
    }
   ],
   "source": [
    "X_train_2, X_val_2, y_train_2, y_val_2 = train_test_split(X_scaled, y, test_size=0.2, random_state=43)\n",
    "# Step 2: Initialize models\n",
    "xgb_model_2 = XGBRegressor(n_estimators=300, learning_rate=0.1, random_state=45, max_depth=6, subsample=0.9)\n",
    "rf_model_2 = RandomForestRegressor(n_estimators= 300, min_samples_split= 10, max_depth= None, random_state=45)\n",
    "svr_model_2 = SVR(kernel='linear', epsilon=0.1, C=10)\n",
    "cb_model_2 = CatBoostRegressor(verbose=0, random_state=45, depth=6, learning_rate=0.1, iterations=300)\n",
    "\n",
    "# Step 3: Train each model\n",
    "xgb_model_2.fit(X_train_2, y_train_2)\n",
    "rf_model_2.fit(X_train_2, y_train_2)\n",
    "svr_model_2.fit(X_train_2, y_train_2)\n",
    "cb_model_2.fit(X_train_2, y_train_2)\n",
    "\n",
    "# Step 4: Predict on validation set\n",
    "pred_xgb_2 = xgb_model_2.predict(X_val_2)\n",
    "pred_rf_2 = rf_model_2.predict(X_val_2)\n",
    "pred_svr_2 = svr_model_2.predict(X_val_2)\n",
    "pred_cb_2 = cb_model_2.predict(X_val_2)\n",
    "\n",
    "print(f\"MAPE for XGBRegressor: {mean_absolute_percentage_error(y_val_2, pred_xgb_2):.4f}\")\n",
    "print(f\"MAPE for RandomForestRegressor: {mean_absolute_percentage_error(y_val_2, pred_rf_2):.4f}\")\n",
    "print(f\"MAPE for SVR: {mean_absolute_percentage_error(y_val_2, pred_svr_2):.4f}\")\n",
    "print(f\"MAPE for CatBoostRegressor: {mean_absolute_percentage_error(y_val_2, pred_cb_2):.4f}\")\n",
    "\n",
    "# Step 5: Simple average ensemble\n",
    "final_pred_2 = (pred_xgb_2 + pred_rf_2 + pred_svr_2 + pred_cb_2) / 4\n",
    "\n",
    "# Step 6: Calculate MAPE\n",
    "final_mape_2 = mean_absolute_percentage_error(y_val_2, final_pred_2)\n",
    "print(f\"Simple Average Ensemble MAPE on Validation Set: {final_mape_2:.4f}\")"
   ]
  },
  {
   "cell_type": "code",
   "execution_count": 109,
   "metadata": {},
   "outputs": [
    {
     "name": "stdout",
     "output_type": "stream",
     "text": [
      "Final Test MAPE (with PCA v/s without PCA): 0.1179\n"
     ]
    }
   ],
   "source": [
    "pred_xgb_test_2 = xgb_model_2.predict(X_test_scaled)\n",
    "pred_rf_test_2 = rf_model_2.predict(X_test_scaled)\n",
    "pred_svr_test_2 = svr_model_2.predict(X_test_scaled)\n",
    "pred_cb_test_2 = cb_model_2.predict(X_test_scaled)\n",
    "\n",
    "# Step 5: Simple average ensemble prediction\n",
    "final_test_pred_2 = (pred_xgb_test_2 + pred_rf_test_2 + pred_svr_test_2 + pred_cb_test_2) / 4\n",
    "\n",
    "# Step 6: Compute final MAPE\n",
    "final_test_mape_2 = mean_absolute_percentage_error(final_test_pred, final_test_pred_2)\n",
    "print(f\"Final Test MAPE (with PCA v/s without PCA): {final_test_mape_2:.4f}\")"
   ]
  },
  {
   "cell_type": "markdown",
   "metadata": {},
   "source": [
    "#### Although we get a better accuracy, it usually is a result of overfitting and the training takes a lot of time, hence it is not efficient and scalable"
   ]
  }
 ],
 "metadata": {
  "kernelspec": {
   "display_name": "Python 3",
   "language": "python",
   "name": "python3"
  },
  "language_info": {
   "codemirror_mode": {
    "name": "ipython",
    "version": 3
   },
   "file_extension": ".py",
   "mimetype": "text/x-python",
   "name": "python",
   "nbconvert_exporter": "python",
   "pygments_lexer": "ipython3",
   "version": "3.9.6"
  }
 },
 "nbformat": 4,
 "nbformat_minor": 2
}
